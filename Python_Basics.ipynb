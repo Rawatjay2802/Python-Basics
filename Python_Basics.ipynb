{
  "nbformat": 4,
  "nbformat_minor": 0,
  "metadata": {
    "colab": {
      "provenance": []
    },
    "kernelspec": {
      "name": "python3",
      "display_name": "Python 3"
    },
    "language_info": {
      "name": "python"
    }
  },
  "cells": [
    {
      "cell_type": "code",
      "execution_count": null,
      "metadata": {
        "id": "xyIkr5EtgNiZ"
      },
      "outputs": [],
      "source": []
    },
    {
      "cell_type": "markdown",
      "source": [
        "Why is Python Popular?\n",
        ">Python's widespread popularity is not merely a consequence of isolated features but rather a result of a synergistic interplay of several key attributes and community contributions.\n",
        "\n",
        ">One of the most compelling aspects of Python is its versatility and flexibility. As a general-purpose language, Python is adept at creating a vast array of applications across diverse domains. It is extensively used in web development, leveraging frameworks like Django and Flask to build dynamic websites and APIs. In data analysis, libraries such as pandas and NumPy enable powerful data manipulation and visualization. Python is also a cornerstone in artificial intelligence and machine learning, with frameworks like TensorFlow and scikit-learn facilitating the development of sophisticated models. Beyond these, its applications span scientific computing, automation, game development, desktop Graphical User Interfaces (GUIs), and even operating system scripting.\n",
        "\n",
        ">The language's simplicity and ease of learning are major contributors to its adoption, particularly for beginners. Python's clean, English-based syntax prioritizes readability, which not only lowers maintenance costs but also accelerates the development and prototyping phases, shortening the time from initial concept to a working implementation.\n",
        "\n",
        ">Python's open-source nature has been pivotal in fostering a rich and expansive ecosystem of free libraries and frameworks. This extensive collection of resources, which includes powerful HTTP clients like Requests, HTML parsers like Beautiful Soup, and scientific computing packages like SciPy and IPython, significantly speeds up development. Developers can focus on solving complex problems rather than \"reinventing the wheel\" by leveraging pre-built, robust tools."
      ],
      "metadata": {
        "id": "sTr9a3j7iW9_"
      }
    },
    {
      "cell_type": "markdown",
      "source": [
        "What is an Interpreter in Python?\n",
        ">A Python interpreter is a fundamental program that translates and executes Python code. It acts as a critical bridge between the high-level, human-readable Python code written by developers and the low-level instructions that a computer's hardware can directly understand and execute. Unlike a compiler, which translates an entire program into an executable file\n",
        "\n",
        "> before it runs, an interpreter works sequentially, reading and executing the code one line at a time. The most common and widely used built-in Python interpreter is CPython, which is implemented in C. However, other interpreters exist, such as PyPy, known for its performance optimizations, and Jython, which allows Python to run on the Java Virtual Machine"
      ],
      "metadata": {
        "id": "jzmqHUk4ijP3"
      }
    },
    {
      "cell_type": "markdown",
      "source": [],
      "metadata": {
        "id": "BqyfFLjgitsT"
      }
    },
    {
      "cell_type": "markdown",
      "source": [
        "What are Pre-defined Keywords in Python?\n",
        ">Keywords in Python are special, predefined, and reserved words that hold specific meanings and purposes within the language's syntax and logic. They are fundamental components of Python's structure and functionality, serving as building blocks for statements, expressions, and definitions. These keywords are always available for use in any Python program; they do not need to be imported.\n",
        "\n",
        ">Python keywords are case-sensitive. For example, if is a recognized keyword, but IF or If are not. It is notable that most keywords are in lowercase, with the distinct exceptions of\n",
        "\n",
        ">True, False, and None. The precise set of Python keywords is determined by the specific version of the interpreter being used and can vary slightly between different Python releases. As of Python 3.11, there are 35 keywords."
      ],
      "metadata": {
        "id": "4aj-Hx5Li0-T"
      }
    },
    {
      "cell_type": "markdown",
      "source": [
        "Can Keywords be Used as Variable Names?\n",
        ">No, Python keywords cannot be used as identifiers, which include variable names, function names, class names, or any other custom names defined by the programmer. Any attempt to use a keyword as an identifier will result in a\n",
        "\n",
        ">SyntaxError. This strict rule is a cornerstone of Python's design, essential for maintaining the clarity and unambiguous nature of the code.\n",
        "\n",
        ">The primary reason for this strict reservation is to ensure that the Python interpreter can consistently understand and execute code. Keywords are integral to the language's syntax and control flow. If, for instance,\n",
        "\n",
        ">if could be used as a variable name, a statement like if x > 5: would become ambiguous: is if the keyword initiating a conditional block, or is it a variable being evaluated? Such ambiguity would make it impossible for the interpreter to parse the code correctly and would lead to unpredictable program behavior. This strictness contrasts with Python's built-in functions and types (e.g print, list), which, while also always available, are not as strictly reserved. While it is highly discouraged and considered bad practice, one could technically reassign a built-in function, but this is not possible with keywords without immediately encountering a SyntaxError."
      ],
      "metadata": {
        "id": "0nZu7fdei2Zi"
      }
    },
    {
      "cell_type": "markdown",
      "source": [
        "What is Mutability in Python?\n",
        "> In Python, mutability refers to the characteristic of an object that determines whether its value or internal state can be changed after it has been created. This fundamental distinction is crucial for understanding how data behaves in Python programs.\n",
        "\n",
        ">Mutable Objects are those whose value or data can be modified in place without altering the object's unique identity, which is its memory address. When an operation is performed that changes a mutable object, the original object itself is updated. Common mutable built-in data types in Python include\n",
        "\n",
        ">lists, dictionaries, sets, and byte arrays. For example, if an item is appended to a list, the list's contents change, but its\n",
        "\n",
        ">id() (which represents its memory address) remains the same, indicating an in-place modification.\n",
        "\n",
        ">Conversely, Immutable Objects are those whose value cannot be changed once they are created. Any operation that appears to modify an immutable object actually results in the creation of a\n",
        "\n",
        ">new object with the updated value, while the original object remains untouched in memory. Common immutable built-in data types include\n",
        "\n",
        ">numbers (integers, floats, complex numbers), strings, tuples, and bytes. For instance, calling the\n",
        "\n",
        ">upper() method on a string does not modify the original string; instead, it returns a new string object containing the uppercase version, leaving the original string unchanged.\n",
        "\n",
        ">A thorough understanding of mutability is essential in Python programming because it significantly influences decisions when choosing appropriate data types for specific programming problems. Misunderstanding mutability can lead to subtle and hard-to-trace programming errors, often referred to as \"mutability-related gotchas\"."
      ],
      "metadata": {
        "id": "4AAUALXhjAz7"
      }
    },
    {
      "cell_type": "markdown",
      "source": [
        "Why are Lists Mutable, but Tuples are Immutable?\n",
        ">The fundamental distinction between lists (mutable) and tuples (immutable) is a core design choice in Python, primarily driven by their intended use cases and the implications for data integrity and program behavior.\n",
        "\n",
        ">Lists are designed to be mutable because they are intended for collections where elements are expected to change frequently after creation. This includes operations such as adding new items, removing existing ones, modifying individual elements, or reordering the entire collection. Lists are ideal for dynamic data structures, such as a list of employee names that requires frequent updates as new members are hired or depart. Their mutability makes them flexible and efficient for operations that involve in-place modifications, avoiding the overhead of creating new objects for every minor change.\n",
        "\n",
        ">Tuples, on the other hand, are designed to be immutable. This means that once a tuple is created, its elements cannot be changed, added, or removed throughout its lifetime. Tuples are typically used for heterogeneous data where the position of an element conveys specific meaning, such as coordinates"
      ],
      "metadata": {
        "id": "SZfPy3tKjPka"
      }
    },
    {
      "cell_type": "markdown",
      "source": [
        "What is the difference between “==” and “is” operators in Python?\n",
        ">In Python, both the == and is operators are used for comparison, but they serve distinct purposes related to an object's value and its identity in memory.\n",
        "\n",
        ">The == (Equality Operator) is used to compare the values or contents of two objects. It evaluates to\n",
        "\n",
        ">True if the objects referred to by the variables have the same contents, regardless of whether they are the same object in memory. When == is used, Python internally calls the __eq__() method of the left object, which defines the criteria for determining equality. Typically, this method is implemented such that\n",
        "== returns True if two objects hold equivalent values and False otherwise.\n",
        "\n",
        "In contrast, the is (Identity Operator) is used to compare the identities of two objects. It evaluates to\n",
        "\n",
        "True if two variables point to the exact same object in memory. This operator determines if two variables are, in fact, references to the identical memory location.\n",
        "\n",
        ">To illustrate this difference, consider an analogy: imagine two identical twin cats. If one were to compare them using the == operator, the answer would be that \"both cats are equal\" because they look exactly the same. However, if one were to compare them using the is operator, the answer would be \"these are two different cats\" because, despite their identical appearance, they are distinct beings. Similarly, one might think of two chain stores. Store A and Store B might have the exact same items and layout, making \"Store A == Store B\" true (same contents). However, \"Store A is Store B\" would be false, as they are not the same physical object."
      ],
      "metadata": {
        "id": "UxizBq6cjgNC"
      }
    },
    {
      "cell_type": "markdown",
      "source": [
        "Logical operators in Python are fundamental components used to combine two or more operands and perform logical comparisons on them. These operators evaluate expressions and return a boolean value, either\n",
        "\n",
        "True or False. Python features three primary logical operators:\n",
        "\n",
        "and, or, and not.\n",
        "\n",
        "The and operator performs logical conjunction. It evaluates two boolean expressions and returns True only if both operands are True. If either operand is\n",
        "\n",
        "False, or if both are False, the and operator returns False. A key characteristic of the and operator is its short-circuit evaluation. This means that Python evaluates the left operand first. If the left operand evaluates to\n",
        "\n",
        "False, the right operand is not evaluated because the overall result of the and expression will already be False regardless of the right operand's value. This behavior can be strategically used to prevent errors, such as a\n",
        "\n",
        "ZeroDivisionError, by placing a \"guard\" condition as the first operand. For example,\n",
        "\n",
        "if y!= 0 and (x / y) > 2: will not attempt division if y is zero.\n",
        "\n",
        "The or operator performs logical disjunction. It evaluates two boolean expressions and returns True if at least one of the operands is True. It returns\n",
        "\n",
        "False only if both operands are False. Like the and operator, or also employs short-circuit evaluation. If the left operand evaluates to\n",
        "\n",
        "True, the right operand is not evaluated because the overall result of the or expression will already be True. This optimizes performance by avoiding unnecessary computations when the outcome is already determined.\n",
        "\n",
        "The not operator is a unary logical operator, meaning it operates on a single operand. Its function is to invert the truth value of an expression. If the operand is\n",
        "\n",
        "True, not returns False; if the operand is False, not returns True. The\n",
        "\n",
        "not operator also works with \"truthy\" and \"falsy\" values in Python. For instance, an empty list `` is considered \"falsy,\" so not evaluates to True.\n",
        "\n",
        "In terms of operator precedence, not has the highest precedence among the logical operators, followed by and, and then or. This means\n",
        "\n",
        "not operations are evaluated first, then and operations, and finally or operations. Parentheses can be used to explicitly control the order of evaluation and override default precedence, ensuring complex logical expressions are evaluated as intended.\n",
        "\n",
        "Logical operators are frequently used in conditional statements and control flow structures to dictate program behavior. For example, if not user_active: can be used to execute a block of code only if a user is not active. Similarly, a\n",
        "\n",
        "while not password_correct: loop can repeatedly prompt for a password until the correct one is entered. They are crucial for building complex decision-making logic in Python programs."
      ],
      "metadata": {
        "id": "1fY-htqrj0Kw"
      }
    },
    {
      "cell_type": "markdown",
      "source": [
        "What is Type Casting in Python?\n",
        ">Type casting, also commonly referred to as type conversion, is the process of converting a variable from one data type to another in Python. This capability is essential in programming because Python is a dynamically typed language where variables can hold different types of data, and operations often require operands of compatible types. For instance, if a numerical value is stored as a string (e.g.\"30\"), it must be converted to an integer or float before arithmetic operations can be performed on it; otherwise, it might be treated as text for concatenation. Correct handling of data types through type casting is crucial to prevent errors or unexpected results in program execution."
      ],
      "metadata": {
        "id": "gHKluoHpj9I6"
      }
    },
    {
      "cell_type": "markdown",
      "source": [
        "What is the difference between implicit and explicit type casting?\n",
        ">Python provides two main mechanisms for type conversion: implicit type casting and explicit type casting.\n",
        "Implicit Type Casting (Type Promotion) occurs automatically without any direct intervention from the programmer. This process typically happens when different data types are used together within a single expression. Python's interpreter automatically converts the data type with lower precision to the data type with higher precision to prevent any loss of data. A common example is the addition of an integer and a float:\n",
        "\n",
        ">c = 1.9  # Float\n",
        "d = 8    # Integer\n",
        "result = c + d\n",
        "print(result)      # Output: 9.9\n",
        "print(type(result)) # Output: <class 'float'>\n",
        "\n",
        "In this scenario, Python implicitly converts the integer d to a float before performing the addition, ensuring that the result c + d is a float and no precision is lost. The primary benefits of implicit type casting include ensuring data integrity and reducing the need for manual conversions in straightforward cases.\n",
        "Explicit Type Casting (Type Conversion), in contrast, requires the programmer to manually convert one data type into another using built-in Python functions. This method provides the developer with precise control over the desired data type for a variable or expression. Common functions used for explicit type casting include\n",
        "\n",
        ">int(), float(), str(), list(), tuple(), set(), and dict(). For example, to perform numeric addition on two numbers initially stored as strings:\n",
        "a = \"1\"  # String\n",
        "b = \"2\"  # String\n",
        "result = int(a) + int(b) # Explicitly converting strings to integers\n",
        "print(result)      # Output: 3\n",
        "print(type(result)) # Output: <class 'int'>\n",
        "\n",
        " Without explicit conversion, Python would concatenate the strings \"1\" and \"2\" to produce \"12\" instead of performing numerical addition. Explicit type casting is particularly useful when strict control over data types is necessary, such as for input validation (e.g., ensuring user input is a number) or when converting user inputs from their default string type. It is important to note that attempting to convert a string that does not represent a valid number (e.g.,\n",
        "int(\"Saim\")) will result in a ValueError.\n",
        "In summary, implicit type casting handles automatic type adjustments for simple mixed-type expressions to prevent data loss, while explicit type casting is developer-driven, providing precise control for specific conversion needs and validation.\n"
      ],
      "metadata": {
        "id": "gwJujfwrkOvy"
      }
    },
    {
      "cell_type": "markdown",
      "source": [
        "What is the purpose of conditional statements in Python?\n",
        ">Conditional statements in Python are programming constructs that allow for the execution of specific blocks of code only if certain conditions are met. Their primary purpose is to control the flow of execution within a program, enabling it to make decisions and take different paths based on whether an expression evaluates to\n",
        "True or False. This decision-making capability is fundamental for creating dynamic and responsive applications.\n",
        "The most basic conditional statement is the if statement, which executes an indented block of code only if its specified condition is True. If the condition is\n",
        "False, the code block is simply skipped.\n",
        "The if-else statement expands on this by providing two distinct paths of execution. If the initial\n",
        "if condition evaluates to True, its corresponding code block is executed. However, if the if condition is False, the code block under the else clause is executed instead. This ensures that one of two possible actions will always be performed."
      ],
      "metadata": {
        "id": "Ipz-wy0sks86"
      }
    },
    {
      "cell_type": "markdown",
      "source": [
        "How does the elif statement work ?\n",
        "> The elif statement (short for \"else if\") is used when there are multiple conditions to check in a sequence. It allows a program to evaluate a series of conditions one after another until a\n",
        "True condition is found.\n",
        " The mechanism of the if-elif-else structure works as follows:\n",
        "\n",
        "1 Python first evaluates the condition of the initial if statement.\n",
        "\n",
        "2 If the if condition is True, its associated code block is executed, and then the entire if-elif-else structure is exited.\n",
        "\n",
        "3 If the if condition is False, Python moves on to evaluate the condition of the first elif statement.\n",
        "\n",
        "4 This process continues down the chain of elif statements. As soon as an elif condition evaluates to True, its corresponding code block is executed, and the entire conditional structure is exited.\n",
        "\n",
        "5 If none of the if or elif conditions evaluate to True, the optional else block (if present) is executed as a fallback"
      ],
      "metadata": {
        "id": "J6wHOLaElv7C"
      }
    },
    {
      "cell_type": "markdown",
      "source": [
        "What is the difference between for and while loops?\n",
        "\n",
        "In Python, both for loops and while loops are used to execute a block of code repeatedly. However, their primary use cases and how their control flow is managed differ significantly.\n",
        "\n",
        "The for loop is typically employed when the number of iterations is known in advance or when there is a need to iterate over elements within a collection (such as a list, tuple, string, or other iterable objects). The control flow of a\n",
        "\n",
        "for loop is designed to process each item in an iterable sequence. Initialization, the termination condition, and the variable updates (incrementing to the next item) are often implicitly handled or set up concisely within the loop's syntax. For example, iterating through a list of names or performing an action a fixed number of times using\n",
        "\n",
        "range() are common applications. for loops are generally considered more readable and concise for these deterministic iterations, contributing to organized code. Common use cases include processing items in lists or arrays, performing a fixed number of repetitions, looping through DataFrames, and batch processing of files.\n",
        "\n",
        "Conversely, the while loop is the preferred choice when the number of iterations is not predetermined, and the loop needs to continue executing while a certain condition remains True. The control flow of a\n",
        "\n",
        "while loop involves repeatedly executing its code block as long as the specified condition evaluates to True. Unlike for loops, the initialization of any counter variables and their subsequent increment or decrement must be handled explicitly by the programmer, typically outside and inside the loop body, respectively.\n",
        "\n",
        "while loops offer greater flexibility when the iteration count is unknown, but they can become less readable if the control variables are not carefully managed or are scattered throughout the code, potentially leading to infinite loops if the condition never becomes False. Typical applications include waiting for valid user input, monitoring external conditions, processing real-time data streams, or implementing recursive algorithms that continue until a convergence criterion is met.\n",
        "\n",
        "In most practical scenarios, the performance difference between for and while loops is negligible. The choice between them primarily impacts code efficiency in terms of clarity and proneness to errors (such as unintended infinite loops) rather than raw execution speed."
      ],
      "metadata": {
        "id": "CcTC2hIhmTGc"
      }
    },
    {
      "cell_type": "markdown",
      "source": [],
      "metadata": {
        "id": "KOz2yV-DknQh"
      }
    },
    {
      "cell_type": "markdown",
      "source": [
        "\n",
        "Describe a scenario where a while loop is more suitable than a for loop?\n",
        "\n",
        "A scenario where a while loop is more suitable than a for loop is when the number of iterations is indeterminate and depends on an unpredictable external condition or user interaction.\n",
        "\n",
        "Consider a program that needs to repeatedly poll a server or a database until it becomes online and responsive, or until a specific record becomes available. In this situation, the exact number of attempts or the duration until the condition is met is unknown beforehand. A for loop would require a predefined range or a fixed collection to iterate over, which does not naturally fit this open-ended waiting pattern.\n",
        "\n",
        "A while loop, however, is perfectly suited for this. It can be set up to continue executing as long as the server is not responsive or the record is not ready. The loop's condition would directly check the state of the external resource, and the loop would terminate as soon as that condition changes to True.\n",
        "\n",
        "Here is an illustrative example, simulating a process that tries to get a specific random number until it succeeds:\n",
        "\n",
        "import random\n",
        "\n",
        "attempts = 0\n",
        "target_number = 5\n",
        "found = False\n",
        "\n",
        "while not found: # Loop continues as long as 'found' is False\n",
        "    current_number = random.randint(1, 10)\n",
        "    attempts += 1\n",
        "    print(f\"Attempt {attempts}: Generated {current_number}\")\n",
        "    if current_number == target_number:\n",
        "        found = True # Set condition to True to exit loop\n",
        "\n",
        "print(f\"Successfully generated {target_number} after {attempts} attempts.\")\n",
        "\n",
        "In this example, the loop continues until the target_number (5) is randomly generated. The number of attempts is unknown when the loop starts. A for loop would not be a natural fit here because there is no fixed sequence or count to iterate over; the termination depends entirely on an unpredictable event. This demonstrates how\n",
        "\n",
        "while loops are ideal for scenarios requiring indefinite iteration based on a dynamic, external condition."
      ],
      "metadata": {
        "id": "jhqTp2MnmUHp"
      }
    },
    {
      "cell_type": "markdown",
      "source": [],
      "metadata": {
        "id": "LUhfhxJkmh-K"
      }
    },
    {
      "cell_type": "code",
      "source": [
        " #Write a Python program to print \"Hello, World!\"\n",
        "\n",
        " print(\"Hello, World!\")"
      ],
      "metadata": {
        "colab": {
          "base_uri": "https://localhost:8080/"
        },
        "id": "sRY0Itngmv3M",
        "outputId": "af6fafec-5b5c-41e4-8627-d2653148c015"
      },
      "execution_count": null,
      "outputs": [
        {
          "output_type": "stream",
          "name": "stdout",
          "text": [
            "Hello, World!\n"
          ]
        }
      ]
    },
    {
      "cell_type": "code",
      "source": [
        "# Write a Python program that displays your name and age8\n",
        "\n",
        "name = \"Jay Rawat\"\n",
        "age = 27\n",
        "\n",
        "print(f\"My name is {name} and I am {age} years old.\")"
      ],
      "metadata": {
        "colab": {
          "base_uri": "https://localhost:8080/"
        },
        "id": "64VYN-RooXR4",
        "outputId": "dce96466-2155-4a6f-85f3-b3ca9da20f66"
      },
      "execution_count": null,
      "outputs": [
        {
          "output_type": "stream",
          "name": "stdout",
          "text": [
            "My name is Jay Rawat and I am 27 years old.\n"
          ]
        }
      ]
    },
    {
      "cell_type": "code",
      "source": [
        "#Write code to print all the pre-defined keywords in Python using the keyword library\n",
        "import keyword\n",
        "\n",
        "print(keyword.kwlist)"
      ],
      "metadata": {
        "colab": {
          "base_uri": "https://localhost:8080/"
        },
        "id": "up9OLwvYpK5P",
        "outputId": "cd23e6be-7e10-461a-8644-2fcf94e324be"
      },
      "execution_count": null,
      "outputs": [
        {
          "output_type": "stream",
          "name": "stdout",
          "text": [
            "['False', 'None', 'True', 'and', 'as', 'assert', 'async', 'await', 'break', 'class', 'continue', 'def', 'del', 'elif', 'else', 'except', 'finally', 'for', 'from', 'global', 'if', 'import', 'in', 'is', 'lambda', 'nonlocal', 'not', 'or', 'pass', 'raise', 'return', 'try', 'while', 'with', 'yield']\n"
          ]
        }
      ]
    },
    {
      "cell_type": "code",
      "source": [
        "#Write a program that checks if a given word is a Python keyword.\n",
        "\n",
        "import keyword\n",
        "\n",
        "word_to_check = input(\"Enter a word to check if it's a Python keyword: \")\n",
        "\n",
        "if keyword.iskeyword(word_to_check):\n",
        "    print(f\"'{word_to_check}' is a Python keyword.\")\n",
        "else:\n",
        "    print(f\"'{word_to_check}' is NOT a Python keyword.\")"
      ],
      "metadata": {
        "colab": {
          "base_uri": "https://localhost:8080/"
        },
        "id": "uznQkr6gpeZA",
        "outputId": "8fd8dadc-df11-47a4-fcc2-208bdc9c6971"
      },
      "execution_count": null,
      "outputs": [
        {
          "output_type": "stream",
          "name": "stdout",
          "text": [
            "Enter a word to check if it's a Python keyword: if\n",
            "'if' is a Python keyword.\n"
          ]
        }
      ]
    },
    {
      "cell_type": "code",
      "source": [
        "# Create a list and tuple in Python, and demonstrate how attempting to change an element works differently\n",
        "# for each\n",
        "my_list = [10, 20, 30, 40, 50]\n",
        "print(f\"Original list: {my_list}\")\n",
        "\n",
        "\n",
        "my_list[2] = 35\n",
        "print(f\"List after attempting to change an element: {my_list}\")\n",
        "\n",
        "\n",
        "my_tuple = (100, 200, 300, 400, 500)\n",
        "print(f\"\\nOriginal tuple: {my_tuple}\")\n",
        "\n",
        "\n",
        "try:\n",
        "    my_tuple[2] = 350\n",
        "except TypeError as e:\n",
        "    print(f\"Attempting to change an element in the tuple resulted in an error: {e}\")"
      ],
      "metadata": {
        "colab": {
          "base_uri": "https://localhost:8080/"
        },
        "id": "ZOAGHDAENVdp",
        "outputId": "1e2d571d-6e84-4939-ad95-05fc6d2eb3e0"
      },
      "execution_count": 12,
      "outputs": [
        {
          "output_type": "stream",
          "name": "stdout",
          "text": [
            "Original list: [10, 20, 30, 40, 50]\n",
            "List after attempting to change an element: [10, 20, 35, 40, 50]\n",
            "\n",
            "Original tuple: (100, 200, 300, 400, 500)\n",
            "Attempting to change an element in the tuple resulted in an error: 'tuple' object does not support item assignment\n"
          ]
        }
      ]
    },
    {
      "cell_type": "code",
      "source": [
        "#. Write a function to demonstrate the behavior of mutable and immutable arguments\n",
        "\n",
        "def demonstrate_arguments(immutable_arg, mutable_arg):\n",
        "\n",
        "    print(f\"--- Inside the function ---\")\n",
        "    print(f\"Initial immutable_arg value: {immutable_arg} (id: {id(immutable_arg)})\")\n",
        "    print(f\"Initial mutable_arg value: {mutable_arg} (id: {id(mutable_arg)})\")\n",
        "\n",
        "\n",
        "    immutable_arg += 1\n",
        "    print(f\"Modified immutable_arg inside function: {immutable_arg} (id: {id(immutable_arg)})\")\n",
        "\n",
        "\n",
        "    mutable_arg.append(\"new_item\")\n",
        "    print(f\"Modified mutable_arg inside function: {mutable_arg} (id: {id(mutable_arg)})\")\n",
        "\n",
        "    print(f\"--- Exiting the function ---\")\n"
      ],
      "metadata": {
        "id": "apJ8u5835zK9"
      },
      "execution_count": null,
      "outputs": []
    },
    {
      "cell_type": "code",
      "source": [
        "#Write a program that performs basic arithmetic operations on two user-input numbers\n",
        "def perform_arithmetic_operations():\n",
        "\n",
        "\n",
        "    print(\"--- Basic Arithmetic Operations ---\")\n",
        "\n",
        "\n",
        "    while True:\n",
        "        try:\n",
        "            num1_str = input(\"Enter the first number: \")\n",
        "            num1 = float(num1_str)\n",
        "            break\n",
        "        except ValueError:\n",
        "            print(\"Invalid input. Please enter a valid number for the first number.\")\n",
        "\n",
        "\n",
        "    while True:\n",
        "        try:\n",
        "            num2_str = input(\"Enter the second number: \")\n",
        "            num2 = float(num2_str)\n",
        "            break\n",
        "        except ValueError:\n",
        "            print(\"Invalid input. Please enter a valid number for the second number.\")\n",
        "\n",
        "    print(f\"\\nPerforming operations on {num1} and {num2}:\\n\")\n",
        "\n",
        "    # Addition\n",
        "    sum_result = num1 + num2\n",
        "    print(f\"Addition ({num1} + {num2}) = {sum_result}\")\n",
        "\n",
        "    # Subtraction\n",
        "    difference_result = num1 - num2\n",
        "    print(f\"Subtraction ({num1} - {num2}) = {difference_result}\")\n",
        "\n",
        "    # Multiplication\n",
        "    product_result = num1 * num2\n",
        "    print(f\"Multiplication ({num1} * {num2}) = {product_result}\")\n",
        "\n",
        "    # Division (with error handling for division by zero)\n",
        "    if num2 != 0:\n",
        "        division_result = num1 / num2\n",
        "        print(f\"Division ({num1} / {num2}) = {division_result}\")\n",
        "    else:\n",
        "        print(\"Division (Error): Cannot divide by zero.\")\n",
        "\n",
        "    print(\"\\n--- Operations Complete ---\")\n",
        "\n",
        "\n",
        "if __name__ == \"__main__\":\n",
        "    perform_arithmetic_operations()\n"
      ],
      "metadata": {
        "id": "ncMVhfib6IsG"
      },
      "execution_count": null,
      "outputs": []
    },
    {
      "cell_type": "code",
      "source": [
        "# Write a program to demonstrate the use of logical operators\n",
        "def demonstrate_logical_operators():\n",
        "\n",
        "    print(\"--- Demonstrating Logical Operators ---\")\n",
        "\n",
        "\n",
        "    is_sunny = True\n",
        "    is_warm = False\n",
        "    has_umbrella = True\n",
        "    is_weekend = False\n",
        "\n",
        "    print(f\"\\nVariables and their values:\")\n",
        "    print(f\"is_sunny = {is_sunny}\")\n",
        "    print(f\"is_warm = {is_warm}\")\n",
        "    print(f\"has_umbrella = {has_umbrella}\")\n",
        "    print(f\"is_weekend = {is_weekend}\")\n",
        "\n",
        "    # --- AND operator ---\n",
        "    print(\"\\n--- AND Operator (all conditions must be True) ---\")\n",
        "    # Example 1: Both conditions are True\n",
        "    condition1_and = is_sunny and has_umbrella\n",
        "    print(f\"is_sunny and has_umbrella ({is_sunny} and {has_umbrella}) = {condition1_and}\")\n",
        "\n",
        "    # Example 2: One condition is False\n",
        "    condition2_and = is_sunny and is_warm\n",
        "    print(f\"is_sunny and is_warm ({is_sunny} and {is_warm}) = {condition2_and}\")\n",
        "\n",
        "    # Example 3: Both conditions are False\n",
        "    condition3_and = is_warm and is_weekend\n",
        "    print(f\"is_warm and is_weekend ({is_warm} and {is_weekend}) = {condition3_and}\")\n",
        "\n",
        "    # --- OR operator ---\n",
        "    print(\"\\n--- OR Operator (at least one condition must be True) ---\")\n",
        "    # Example 1: Both conditions are True (though only one is needed)\n",
        "    condition1_or = is_sunny or has_umbrella\n",
        "    print(f\"is_sunny or has_umbrella ({is_sunny} or {has_umbrella}) = {condition1_or}\")\n",
        "\n",
        "    # Example 2: One condition is True\n",
        "    condition2_or = is_sunny or is_warm\n",
        "    print(f\"is_sunny or is_warm ({is_sunny} or {is_warm}) = {condition2_or}\")\n",
        "\n",
        "    # Example 3: Both conditions are False\n",
        "    condition3_or = is_warm or is_weekend\n",
        "    print(f\"is_warm or is_weekend ({is_warm} or {is_weekend}) = {condition3_or}\")\n",
        "\n",
        "    # --- NOT operator ---\n",
        "    print(\"\\n--- NOT Operator (inverts the boolean value) ---\")\n",
        "    # Example 1: Inverting True\n",
        "    condition1_not = not is_sunny\n",
        "    print(f\"not is_sunny (not {is_sunny}) = {condition1_not}\")\n",
        "\n",
        "    # Example 2: Inverting False\n",
        "    condition2_not = not is_warm\n",
        "    print(f\"not is_warm (not {is_warm}) = {condition2_not}\")\n",
        "\n",
        "    # --- Combining operators ---\n",
        "    print(\"\\n--- Combining Logical Operators ---\")\n",
        "    # (is_sunny and not is_warm) or is_weekend\n",
        "    combined_condition = (is_sunny and not is_warm) or is_weekend\n",
        "    print(f\"(is_sunny and not is_warm) or is_weekend = ({is_sunny} and not {is_warm}) or {is_weekend} = {combined_condition}\")\n",
        "    print(f\"Explanation: (True and True) or False = True or False = True\")\n",
        "\n",
        "    print(\"\\n--- Demonstration Complete ---\")\n",
        "\n",
        "# Call the function to run the program\n",
        "if __name__ == \"__main__\":\n",
        "    demonstrate_logical_operators()\n"
      ],
      "metadata": {
        "id": "JZrEaPqb73cX"
      },
      "execution_count": null,
      "outputs": []
    },
    {
      "cell_type": "code",
      "source": [
        "#Write a Python program to convert user input from string to integer, float, and boolean types\n",
        "def demonstrate_type_conversion():\n",
        "\n",
        "    print(\"--- Demonstrating Type Conversion ---\")\n",
        "\n",
        "    # --- Convert to Integer ---\n",
        "    print(\"\\n--- Converting to Integer ---\")\n",
        "    while True:\n",
        "        int_input_str = input(\"Enter a whole number (integer): \")\n",
        "        try:\n",
        "            converted_int = int(int_input_str)\n",
        "            print(f\"Original string: '{int_input_str}' (Type: {type(int_input_str)})\")\n",
        "            print(f\"Converted integer: {converted_int} (Type: {type(converted_int)})\")\n",
        "            break\n",
        "        except ValueError:\n",
        "            print(f\"Error: '{int_input_str}' cannot be converted to an integer. Please try again.\")\n",
        "\n",
        "    # --- Convert to Float ---\n",
        "    print(\"\\n--- Converting to Float ---\")\n",
        "    while True:\n",
        "        float_input_str = input(\"Enter a decimal number (float): \")\n",
        "        try:\n",
        "            converted_float = float(float_input_str)\n",
        "            print(f\"Original string: '{float_input_str}' (Type: {type(float_input_str)})\")\n",
        "            print(f\"Converted float: {converted_float} (Type: {type(converted_float)})\")\n",
        "            break\n",
        "        except ValueError:\n",
        "            print(f\"Error: '{float_input_str}' cannot be converted to a float. Please try again.\")\n",
        "\n",
        "    # --- Convert to Boolean ---\n",
        "    print(\"\\n--- Converting to Boolean ---\")\n",
        "    print(\"Note: In Python, empty strings, 0, None, and empty collections are considered False.\")\n",
        "    print(\"      Any non-empty string, non-zero number, or non-empty collection is considered True.\")\n",
        "\n",
        "    bool_input_str = input(\"Enter a value to convert to boolean (e.g., 'True', 'False', '1', '0', 'hello', ''): \")\n",
        "    converted_bool = bool(bool_input_str)\n",
        "    print(f\"Original string: '{bool_input_str}' (Type: {type(bool_input_str)})\")\n",
        "    print(f\"Converted boolean: {converted_bool} (Type: {type(converted_bool)})\")\n",
        "\n",
        "    # Special case for numeric string '0' or '1' if you want explicit True/False\n",
        "    # This is a common misunderstanding, as bool('0') is True.\n",
        "    print(\"\\n--- Special Boolean Conversion Cases (from string '0' or '1') ---\")\n",
        "    numeric_bool_str = input(\"Enter '0' or '1' to see explicit boolean conversion: \")\n",
        "    if numeric_bool_str == '0':\n",
        "        explicit_bool = False\n",
        "    elif numeric_bool_str == '1':\n",
        "        explicit_bool = True\n",
        "    else:\n",
        "        explicit_bool = bool(numeric_bool_str) # Fallback to default bool() for other inputs\n",
        "\n",
        "    print(f\"Original string: '{numeric_bool_str}' (Type: {type(numeric_bool_str)})\")\n",
        "    print(f\"Explicitly handled boolean: {explicit_bool} (Type: {type(explicit_bool)})\")\n",
        "\n",
        "\n",
        "    print(\"\\n--- Demonstration Complete ---\")\n",
        "\n",
        "# Call the function to run the program\n",
        "if __name__ == \"__main__\":\n",
        "    demonstrate_type_conversion()\n"
      ],
      "metadata": {
        "id": "MS7nEzqj8IKg"
      },
      "execution_count": null,
      "outputs": []
    },
    {
      "cell_type": "code",
      "source": [
        "#Write code to demonstrate type casting with list elements\n",
        "\n",
        "def demonstrate_type_conversion():\n",
        "\n",
        "    print(\"--- Demonstrating Type Conversion ---\")\n",
        "\n",
        "    # --- Convert to Integer ---\n",
        "    print(\"\\n--- Converting to Integer ---\")\n",
        "    while True:\n",
        "        int_input_str = input(\"Enter a whole number (integer): \")\n",
        "        try:\n",
        "            converted_int = int(int_input_str)\n",
        "            print(f\"Original string: '{int_input_str}' (Type: {type(int_input_str)})\")\n",
        "            print(f\"Converted integer: {converted_int} (Type: {type(converted_int)})\")\n",
        "            break\n",
        "        except ValueError:\n",
        "            print(f\"Error: '{int_input_str}' cannot be converted to an integer. Please try again.\")\n",
        "\n",
        "    # --- Convert to Float ---\n",
        "    print(\"\\n--- Converting to Float ---\")\n",
        "    while True:\n",
        "        float_input_str = input(\"Enter a decimal number (float): \")\n",
        "        try:\n",
        "            converted_float = float(float_input_str)\n",
        "            print(f\"Original string: '{float_input_str}' (Type: {type(float_input_str)})\")\n",
        "            print(f\"Converted float: {converted_float} (Type: {type(converted_float)})\")\n",
        "            break\n",
        "        except ValueError:\n",
        "            print(f\"Error: '{float_input_str}' cannot be converted to a float. Please try again.\")\n",
        "\n",
        "    # --- Convert to Boolean ---\n",
        "    print(\"\\n--- Converting to Boolean ---\")\n",
        "    print(\"Note: In Python, empty strings, 0, None, and empty collections are considered False.\")\n",
        "    print(\"      Any non-empty string, non-zero number, or non-empty collection is considered True.\")\n",
        "\n",
        "    bool_input_str = input(\"Enter a value to convert to boolean (e.g., 'True', 'False', '1', '0', 'hello', ''): \")\n",
        "    converted_bool = bool(bool_input_str)\n",
        "    print(f\"Original string: '{bool_input_str}' (Type: {type(bool_input_str)})\")\n",
        "    print(f\"Converted boolean: {converted_bool} (Type: {type(converted_bool)})\")\n",
        "\n",
        "\n",
        "    print(\"\\n--- Special Boolean Conversion Cases (from string '0' or '1') ---\")\n",
        "    numeric_bool_str = input(\"Enter '0' or '1' to see explicit boolean conversion: \")\n",
        "    if numeric_bool_str == '0':\n",
        "        explicit_bool = False\n",
        "    elif numeric_bool_str == '1':\n",
        "        explicit_bool = True\n",
        "    else:\n",
        "        explicit_bool = bool(numeric_bool_str)\n",
        "\n",
        "    print(f\"Original string: '{numeric_bool_str}' (Type: {type(numeric_bool_str)})\")\n",
        "    print(f\"Explicitly handled boolean: {explicit_bool} (Type: {type(explicit_bool)})\")\n",
        "\n",
        "\n",
        "    print(\"\\n--- Type Casting with List Elements ---\")\n",
        "    string_numbers = [\"10\", \"20\", \"30\", \"40.5\", \"50\"]\n",
        "    print(f\"Original list of strings: {string_numbers}\")\n",
        "    print(f\"Type of elements in original list: {type(string_numbers[0])}\")\n",
        "\n",
        "\n",
        "    integer_list = []\n",
        "    for s_num in string_numbers:\n",
        "        try:\n",
        "\n",
        "            if s_num.isdigit() or (s_num.startswith('-') and s_num[1:].isdigit()):\n",
        "                integer_list.append(int(s_num))\n",
        "            else:\n",
        "                integer_list.append(None)\n",
        "        except ValueError:\n",
        "            integer_list.append(None)\n",
        "    print(f\"List with elements converted to integers (where possible): {integer_list}\")\n",
        "    if integer_list and integer_list[0] is not None:\n",
        "        print(f\"Type of first element in integer list: {type(integer_list[0])}\")\n",
        "\n",
        "\n",
        "\n",
        "    float_list = []\n",
        "    for s_num in string_numbers:\n",
        "        try:\n",
        "            float_list.append(float(s_num))\n",
        "        except ValueError:\n",
        "            float_list.append(None)\n",
        "    print(f\"List with elements converted to floats: {float_list}\")\n",
        "    if float_list:\n",
        "        print(f\"Type of first element in float list: {type(float_list[0])}\")\n",
        "\n",
        "\n",
        "    print(\"\\n--- Demonstration Complete ---\")\n",
        "\n",
        "\n",
        "if __name__ == \"__main__\":\n",
        "    demonstrate_type_conversion()\n"
      ],
      "metadata": {
        "id": "QrRe7sg28vEi"
      },
      "execution_count": null,
      "outputs": []
    },
    {
      "cell_type": "code",
      "source": [
        "#Write a program that checks if a number is positive, negative, or zero.\n",
        "def check_number_sign():\n",
        "\n",
        "    print(\"--- Number Sign Checker ---\")\n",
        "\n",
        "    while True:\n",
        "        user_input = input(\"Enter a number: \")\n",
        "        try:\n",
        "            number = float(user_input)\n",
        "            break\n",
        "        except ValueError:\n",
        "            print(f\"Invalid input: '{user_input}' is not a valid number. Please try again.\")\n",
        "\n",
        "    if number > 0:\n",
        "        print(f\"The number {number} is Positive.\")\n",
        "    elif number < 0:\n",
        "        print(f\"The number {number} is Negative.\")\n",
        "    else: # number must be 0\n",
        "        print(f\"The number {number} is Zero.\")\n",
        "\n",
        "    print(\"\\n--- Check Complete ---\")\n",
        "\n",
        "\n",
        "if __name__ == \"__main__\":\n",
        "    check_number_sign()"
      ],
      "metadata": {
        "id": "nprITfh19LgP"
      },
      "execution_count": null,
      "outputs": []
    },
    {
      "cell_type": "code",
      "source": [
        "#Write a for loop to print numbers from 1 to 10.\n",
        "def check_number_sign():\n",
        "\n",
        "    print(\"--- Number Sign Checker ---\")\n",
        "\n",
        "    while True:\n",
        "        user_input = input(\"Enter a number: \")\n",
        "        try:\n",
        "            number = float(user_input) # Use float to handle both integers and decimals\n",
        "            break # Exit loop if input is a valid number\n",
        "        except ValueError:\n",
        "            print(f\"Invalid input: '{user_input}' is not a valid number. Please try again.\")\n",
        "\n",
        "    if number > 0:\n",
        "        print(f\"The number {number} is Positive.\")\n",
        "    elif number < 0:\n",
        "        print(f\"The number {number} is Negative.\")\n",
        "    else: # number must be 0\n",
        "        print(f\"The number {number} is Zero.\")\n",
        "\n",
        "    print(\"\\n--- Check Complete ---\")\n",
        "\n",
        "# Call the function to run the program\n",
        "if __name__ == \"__main__\":\n",
        "    check_number_sign()\n",
        "\n",
        "    print(\"\\n--- Printing numbers from 1 to 10 using a for loop ---\")\n",
        "    for i in range(1, 11): # range(1, 11) generates numbers from 1 up to (but not including) 11\n",
        "        print(i)\n",
        "    print(\"--- For loop complete ---\")"
      ],
      "metadata": {
        "id": "jeFKx6sT9sjl"
      },
      "execution_count": null,
      "outputs": []
    },
    {
      "cell_type": "code",
      "source": [
        "# Write a Python program to find the sum of all even numbers between 1 and 50.\n",
        "def find_sum_of_even_numbers():\n",
        "\n",
        "    print(\"--- Sum of Even Numbers (1 to 50) ---\")\n",
        "\n",
        "    sum_of_evens = 0  # Initialize a variable to store the sum\n",
        "\n",
        "    # Loop through numbers from 1 to 50\n",
        "    # The range function generates numbers up to, but not including, the second argument.\n",
        "    # So, range(1, 51) will include 50.\n",
        "    for number in range(1, 51):\n",
        "        # Check if the number is even\n",
        "        # A number is even if its remainder when divided by 2 is 0.\n",
        "        if number % 2 == 0:\n",
        "            sum_of_evens += number  # Add the even number to the sum\n",
        "\n",
        "    print(f\"The sum of all even numbers between 1 and 50 is: {sum_of_evens}\")\n",
        "    print(\"--- Calculation Complete ---\")\n",
        "\n",
        "\n",
        "if __name__ == \"__main__\":\n",
        "    find_sum_of_even_numbers()"
      ],
      "metadata": {
        "id": "QZStcTJr-99V"
      },
      "execution_count": null,
      "outputs": []
    },
    {
      "cell_type": "code",
      "source": [
        "#Write a program to reverse a string using a while loop.\n",
        "\n",
        "def reverse_string_while_loop():\n",
        "\n",
        "    print(\"--- String Reverser (using while loop) ---\")\n",
        "\n",
        "    original_string = input(\"Enter a string to reverse: \")\n",
        "    reversed_string = \"\"\n",
        "    index = len(original_string) - 1 # Start from the last character\n",
        "\n",
        "    # Loop while the index is non-negative\n",
        "    while index >= 0:\n",
        "        reversed_string += original_string[index] # Add the character at current index\n",
        "        index -= 1 # Move to the previous character\n",
        "\n",
        "    print(f\"Original string: '{original_string}'\")\n",
        "    print(f\"Reversed string: '{reversed_string}'\")\n",
        "    print(\"--- Reversal Complete ---\")\n",
        "\n",
        "# Call the function to run the program\n",
        "if __name__ == \"__main__\":\n",
        "    reverse_string_while_loop()\n"
      ],
      "metadata": {
        "id": "TgEO32G5_IGV"
      },
      "execution_count": null,
      "outputs": []
    },
    {
      "cell_type": "code",
      "source": [
        " #Write a Python program to calculate the factorial of a number provided by the user using a while loop\n",
        "\n",
        " def calculate_factorial_while_loop():\n",
        "\n",
        "    print(\"--- Factorial Calculator (using while loop) ---\")\n",
        "\n",
        "    while True:\n",
        "        num_str = input(\"Enter a non-negative integer to calculate its factorial: \")\n",
        "        try:\n",
        "            num = int(num_str)\n",
        "            if num < 0:\n",
        "                print(\"Factorial is not defined for negative numbers. Please enter a non-negative integer.\")\n",
        "            else:\n",
        "                break # Valid input, exit loop\n",
        "        except ValueError:\n",
        "            print(f\"Invalid input: '{num_str}' is not a valid integer. Please try again.\")\n",
        "\n",
        "    # Handle special case for 0!\n",
        "    if num == 0:\n",
        "        print(f\"The factorial of 0 is: 1\")\n",
        "    else:\n",
        "        factorial = 1\n",
        "        counter = num # Start counter from the number itself\n",
        "\n",
        "        # Multiply factorial by counter, then decrement counter\n",
        "        while counter > 0:\n",
        "            factorial *= counter # Equivalent to factorial = factorial * counter\n",
        "            counter -= 1 # Decrement counter by 1\n",
        "\n",
        "        print(f\"The factorial of {num} is: {factorial}\")\n",
        "\n",
        "    print(\"--- Calculation Complete ---\")\n",
        "\n",
        "# Call the function to run the program\n",
        "if __name__ == \"__main__\":\n",
        "    calculate_factorial_while_loop()\n"
      ],
      "metadata": {
        "id": "T32D_do9_9Rd"
      },
      "execution_count": null,
      "outputs": []
    }
  ]
}